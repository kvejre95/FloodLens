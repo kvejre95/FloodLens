{
 "cells": [
  {
   "cell_type": "code",
   "execution_count": null,
   "metadata": {
    "colab": {
     "base_uri": "https://localhost:8080/"
    },
    "executionInfo": {
     "elapsed": 15294,
     "status": "ok",
     "timestamp": 1698678982018,
     "user": {
      "displayName": "Pranath Reddy Kumbam",
      "userId": "13245202322626445782"
     },
     "user_tz": 240
    },
    "id": "uV8Lch-wnW32",
    "outputId": "7cad6958-0c65-4c18-aebe-0bf1d0a2ee9f"
   },
   "outputs": [],
   "source": [
    "from google.colab import drive\n",
    "drive.mount('/content/drive')"
   ]
  },
  {
   "cell_type": "code",
   "execution_count": null,
   "metadata": {
    "colab": {
     "base_uri": "https://localhost:8080/"
    },
    "executionInfo": {
     "elapsed": 187,
     "status": "ok",
     "timestamp": 1698678982201,
     "user": {
      "displayName": "Pranath Reddy Kumbam",
      "userId": "13245202322626445782"
     },
     "user_tz": 240
    },
    "id": "DuSmOjVKoU-S",
    "outputId": "46dd9b67-6c42-40af-e7d8-cacbea983b2d"
   },
   "outputs": [],
   "source": [
    "cd drive/My \\Drive/Acad/ADS/Project/"
   ]
  },
  {
   "cell_type": "code",
   "execution_count": null,
   "metadata": {
    "colab": {
     "base_uri": "https://localhost:8080/",
     "height": 245,
     "referenced_widgets": [
      "8362f5242ff14c5fac49e0ed0af3dfdc",
      "d3bace72f6fe4c14a8289e44e95e3f28",
      "98da5f89a1d240f8a2409b7cb3636fe2",
      "ecc62b25e09b49749f2419f317adb333",
      "b193056710bc4f56b7f9da6a623fda3a",
      "87345b870bbb450db606ea7c4c8d4556",
      "8459b325ffd141c6b08db79c01b78a35",
      "2a64d3a713b644b49de0e165e9f66ba2",
      "11fb1074615748a5bc42fa347e50b3f2",
      "e5452b4a431c4f69a03abc5b79573efa",
      "23d0dd2858eb4a329420b87f17b9012f"
     ]
    },
    "executionInfo": {
     "elapsed": 652597,
     "status": "ok",
     "timestamp": 1698680353839,
     "user": {
      "displayName": "Pranath Reddy Kumbam",
      "userId": "13245202322626445782"
     },
     "user_tz": 240
    },
    "id": "prXHDxiXxsK8",
    "outputId": "19a81e03-169d-429f-94ea-b7146b4fbee3"
   },
   "outputs": [],
   "source": [
    "'''\n",
    "Notebook to generate samples using trained diffusion model\n",
    "'''\n",
    "\n",
    "import matplotlib.pyplot as plt\n",
    "%matplotlib inline\n",
    "import torch\n",
    "import torch.nn as nn\n",
    "import numpy as np\n",
    "from tqdm.notebook import tqdm\n",
    "from modules_conditional import UNet, Diffusion\n",
    "\n",
    "device = \"cuda\"\n",
    "model = UNet().to(device)\n",
    "model.load_state_dict(torch.load('./Weights/Diff_ckpt_1.pt'))\n",
    "diffusion = Diffusion(img_size=128, device=device)\n",
    "\n",
    "x_test = np.load('./Data/test_images.npy').astype(np.float32)[:20].reshape(-1,5,3,128,128)\n",
    "\n",
    "out = []\n",
    "for i in tqdm(range(x_test.shape[0])):\n",
    "\n",
    "    data = torch.from_numpy(x_test[i].reshape(5,3,128,128))\n",
    "    data = data.to(device)\n",
    "    recon = diffusion.sample(model, n=data.shape[0], lat=data)\n",
    "    out.append(recon.cpu().detach().numpy().reshape(5,1,128,128))\n",
    "dataSR = np.asarray(out)\n",
    "print(dataSR.shape)\n",
    "\n",
    "x = np.load('./Data/test_labels.npy').astype(np.float32)[:20].reshape(-1,5,1,128,128)\n",
    "x_out = dataSR.astype(np.float32)\n",
    "\n",
    "x_test = x_test.reshape(-1,3,128,128) # LR\n",
    "x = x.reshape(-1,1,128,128) # HR\n",
    "x_out = x_out.reshape(-1,1,128,128) # SR\n",
    "\n",
    "print(\"Metrics:\")\n",
    "criteria = nn.MSELoss()\n",
    "losses = []\n",
    "for i in range(x_test.shape[0]):\n",
    "    losses.append(criteria(torch.from_numpy(x_out[i]), torch.from_numpy(x[i])))\n",
    "print(\"Average MSE super resolution samples: \" + str('%.5f'%np.average(losses)))"
   ]
  },
  {
   "cell_type": "code",
   "execution_count": null,
   "metadata": {
    "executionInfo": {
     "elapsed": 15376,
     "status": "ok",
     "timestamp": 1698680485309,
     "user": {
      "displayName": "Pranath Reddy Kumbam",
      "userId": "13245202322626445782"
     },
     "user_tz": 240
    },
    "id": "jZyVI9XT_Ggu"
   },
   "outputs": [],
   "source": [
    "# Visualize samples\n",
    "import cv2\n",
    "dataLR = x_test\n",
    "dataHR = x\n",
    "\n",
    "def rescale_img(img):\n",
    "    min_vals = np.min(img, axis=(0,1), keepdims=True)\n",
    "    max_vals = np.max(img, axis=(0,1), keepdims=True)\n",
    "    return (img - min_vals) / (max_vals - min_vals)\n",
    "\n",
    "for i in range(20):\n",
    "  f, axarr = plt.subplots(nrows=1,ncols=3,figsize=(16,3))\n",
    "  plt.sca(axarr[0]);\n",
    "  plt.imshow(rescale_img(x_test[i].transpose(1, 2, 0))); plt.title('Low Resolution Image (Input)')\n",
    "  plt.sca(axarr[1]);\n",
    "  plt.imshow(x_out[i][0]); plt.title('Model Output Labels')\n",
    "  plt.sca(axarr[2]);\n",
    "  plt.imshow(x[i][0]); plt.title('Ground Truth Labels')\n",
    "  plt.savefig('./Results/Samples/Sample' + str(i+1) + '.png', format='png', dpi=300)\n",
    "  plt.close()"
   ]
  }
 ],
 "metadata": {
  "accelerator": "GPU",
  "colab": {
   "gpuType": "T4",
   "provenance": []
  },
  "kernelspec": {
   "display_name": "Python 3 (ipykernel)",
   "language": "python",
   "name": "python3"
  },
  "language_info": {
   "codemirror_mode": {
    "name": "ipython",
    "version": 3
   },
   "file_extension": ".py",
   "mimetype": "text/x-python",
   "name": "python",
   "nbconvert_exporter": "python",
   "pygments_lexer": "ipython3",
   "version": "3.11.5"
  },
  "widgets": {
   "application/vnd.jupyter.widget-state+json": {
    "11fb1074615748a5bc42fa347e50b3f2": {
     "model_module": "@jupyter-widgets/controls",
     "model_module_version": "1.5.0",
     "model_name": "ProgressStyleModel",
     "state": {
      "_model_module": "@jupyter-widgets/controls",
      "_model_module_version": "1.5.0",
      "_model_name": "ProgressStyleModel",
      "_view_count": null,
      "_view_module": "@jupyter-widgets/base",
      "_view_module_version": "1.2.0",
      "_view_name": "StyleView",
      "bar_color": null,
      "description_width": ""
     }
    },
    "23d0dd2858eb4a329420b87f17b9012f": {
     "model_module": "@jupyter-widgets/controls",
     "model_module_version": "1.5.0",
     "model_name": "DescriptionStyleModel",
     "state": {
      "_model_module": "@jupyter-widgets/controls",
      "_model_module_version": "1.5.0",
      "_model_name": "DescriptionStyleModel",
      "_view_count": null,
      "_view_module": "@jupyter-widgets/base",
      "_view_module_version": "1.2.0",
      "_view_name": "StyleView",
      "description_width": ""
     }
    },
    "2a64d3a713b644b49de0e165e9f66ba2": {
     "model_module": "@jupyter-widgets/base",
     "model_module_version": "1.2.0",
     "model_name": "LayoutModel",
     "state": {
      "_model_module": "@jupyter-widgets/base",
      "_model_module_version": "1.2.0",
      "_model_name": "LayoutModel",
      "_view_count": null,
      "_view_module": "@jupyter-widgets/base",
      "_view_module_version": "1.2.0",
      "_view_name": "LayoutView",
      "align_content": null,
      "align_items": null,
      "align_self": null,
      "border": null,
      "bottom": null,
      "display": null,
      "flex": null,
      "flex_flow": null,
      "grid_area": null,
      "grid_auto_columns": null,
      "grid_auto_flow": null,
      "grid_auto_rows": null,
      "grid_column": null,
      "grid_gap": null,
      "grid_row": null,
      "grid_template_areas": null,
      "grid_template_columns": null,
      "grid_template_rows": null,
      "height": null,
      "justify_content": null,
      "justify_items": null,
      "left": null,
      "margin": null,
      "max_height": null,
      "max_width": null,
      "min_height": null,
      "min_width": null,
      "object_fit": null,
      "object_position": null,
      "order": null,
      "overflow": null,
      "overflow_x": null,
      "overflow_y": null,
      "padding": null,
      "right": null,
      "top": null,
      "visibility": null,
      "width": null
     }
    },
    "8362f5242ff14c5fac49e0ed0af3dfdc": {
     "model_module": "@jupyter-widgets/controls",
     "model_module_version": "1.5.0",
     "model_name": "HBoxModel",
     "state": {
      "_dom_classes": [],
      "_model_module": "@jupyter-widgets/controls",
      "_model_module_version": "1.5.0",
      "_model_name": "HBoxModel",
      "_view_count": null,
      "_view_module": "@jupyter-widgets/controls",
      "_view_module_version": "1.5.0",
      "_view_name": "HBoxView",
      "box_style": "",
      "children": [
       "IPY_MODEL_d3bace72f6fe4c14a8289e44e95e3f28",
       "IPY_MODEL_98da5f89a1d240f8a2409b7cb3636fe2",
       "IPY_MODEL_ecc62b25e09b49749f2419f317adb333"
      ],
      "layout": "IPY_MODEL_b193056710bc4f56b7f9da6a623fda3a"
     }
    },
    "8459b325ffd141c6b08db79c01b78a35": {
     "model_module": "@jupyter-widgets/controls",
     "model_module_version": "1.5.0",
     "model_name": "DescriptionStyleModel",
     "state": {
      "_model_module": "@jupyter-widgets/controls",
      "_model_module_version": "1.5.0",
      "_model_name": "DescriptionStyleModel",
      "_view_count": null,
      "_view_module": "@jupyter-widgets/base",
      "_view_module_version": "1.2.0",
      "_view_name": "StyleView",
      "description_width": ""
     }
    },
    "87345b870bbb450db606ea7c4c8d4556": {
     "model_module": "@jupyter-widgets/base",
     "model_module_version": "1.2.0",
     "model_name": "LayoutModel",
     "state": {
      "_model_module": "@jupyter-widgets/base",
      "_model_module_version": "1.2.0",
      "_model_name": "LayoutModel",
      "_view_count": null,
      "_view_module": "@jupyter-widgets/base",
      "_view_module_version": "1.2.0",
      "_view_name": "LayoutView",
      "align_content": null,
      "align_items": null,
      "align_self": null,
      "border": null,
      "bottom": null,
      "display": null,
      "flex": null,
      "flex_flow": null,
      "grid_area": null,
      "grid_auto_columns": null,
      "grid_auto_flow": null,
      "grid_auto_rows": null,
      "grid_column": null,
      "grid_gap": null,
      "grid_row": null,
      "grid_template_areas": null,
      "grid_template_columns": null,
      "grid_template_rows": null,
      "height": null,
      "justify_content": null,
      "justify_items": null,
      "left": null,
      "margin": null,
      "max_height": null,
      "max_width": null,
      "min_height": null,
      "min_width": null,
      "object_fit": null,
      "object_position": null,
      "order": null,
      "overflow": null,
      "overflow_x": null,
      "overflow_y": null,
      "padding": null,
      "right": null,
      "top": null,
      "visibility": null,
      "width": null
     }
    },
    "98da5f89a1d240f8a2409b7cb3636fe2": {
     "model_module": "@jupyter-widgets/controls",
     "model_module_version": "1.5.0",
     "model_name": "FloatProgressModel",
     "state": {
      "_dom_classes": [],
      "_model_module": "@jupyter-widgets/controls",
      "_model_module_version": "1.5.0",
      "_model_name": "FloatProgressModel",
      "_view_count": null,
      "_view_module": "@jupyter-widgets/controls",
      "_view_module_version": "1.5.0",
      "_view_name": "ProgressView",
      "bar_style": "success",
      "description": "",
      "description_tooltip": null,
      "layout": "IPY_MODEL_2a64d3a713b644b49de0e165e9f66ba2",
      "max": 4,
      "min": 0,
      "orientation": "horizontal",
      "style": "IPY_MODEL_11fb1074615748a5bc42fa347e50b3f2",
      "value": 4
     }
    },
    "b193056710bc4f56b7f9da6a623fda3a": {
     "model_module": "@jupyter-widgets/base",
     "model_module_version": "1.2.0",
     "model_name": "LayoutModel",
     "state": {
      "_model_module": "@jupyter-widgets/base",
      "_model_module_version": "1.2.0",
      "_model_name": "LayoutModel",
      "_view_count": null,
      "_view_module": "@jupyter-widgets/base",
      "_view_module_version": "1.2.0",
      "_view_name": "LayoutView",
      "align_content": null,
      "align_items": null,
      "align_self": null,
      "border": null,
      "bottom": null,
      "display": null,
      "flex": null,
      "flex_flow": null,
      "grid_area": null,
      "grid_auto_columns": null,
      "grid_auto_flow": null,
      "grid_auto_rows": null,
      "grid_column": null,
      "grid_gap": null,
      "grid_row": null,
      "grid_template_areas": null,
      "grid_template_columns": null,
      "grid_template_rows": null,
      "height": null,
      "justify_content": null,
      "justify_items": null,
      "left": null,
      "margin": null,
      "max_height": null,
      "max_width": null,
      "min_height": null,
      "min_width": null,
      "object_fit": null,
      "object_position": null,
      "order": null,
      "overflow": null,
      "overflow_x": null,
      "overflow_y": null,
      "padding": null,
      "right": null,
      "top": null,
      "visibility": null,
      "width": null
     }
    },
    "d3bace72f6fe4c14a8289e44e95e3f28": {
     "model_module": "@jupyter-widgets/controls",
     "model_module_version": "1.5.0",
     "model_name": "HTMLModel",
     "state": {
      "_dom_classes": [],
      "_model_module": "@jupyter-widgets/controls",
      "_model_module_version": "1.5.0",
      "_model_name": "HTMLModel",
      "_view_count": null,
      "_view_module": "@jupyter-widgets/controls",
      "_view_module_version": "1.5.0",
      "_view_name": "HTMLView",
      "description": "",
      "description_tooltip": null,
      "layout": "IPY_MODEL_87345b870bbb450db606ea7c4c8d4556",
      "placeholder": "​",
      "style": "IPY_MODEL_8459b325ffd141c6b08db79c01b78a35",
      "value": "100%"
     }
    },
    "e5452b4a431c4f69a03abc5b79573efa": {
     "model_module": "@jupyter-widgets/base",
     "model_module_version": "1.2.0",
     "model_name": "LayoutModel",
     "state": {
      "_model_module": "@jupyter-widgets/base",
      "_model_module_version": "1.2.0",
      "_model_name": "LayoutModel",
      "_view_count": null,
      "_view_module": "@jupyter-widgets/base",
      "_view_module_version": "1.2.0",
      "_view_name": "LayoutView",
      "align_content": null,
      "align_items": null,
      "align_self": null,
      "border": null,
      "bottom": null,
      "display": null,
      "flex": null,
      "flex_flow": null,
      "grid_area": null,
      "grid_auto_columns": null,
      "grid_auto_flow": null,
      "grid_auto_rows": null,
      "grid_column": null,
      "grid_gap": null,
      "grid_row": null,
      "grid_template_areas": null,
      "grid_template_columns": null,
      "grid_template_rows": null,
      "height": null,
      "justify_content": null,
      "justify_items": null,
      "left": null,
      "margin": null,
      "max_height": null,
      "max_width": null,
      "min_height": null,
      "min_width": null,
      "object_fit": null,
      "object_position": null,
      "order": null,
      "overflow": null,
      "overflow_x": null,
      "overflow_y": null,
      "padding": null,
      "right": null,
      "top": null,
      "visibility": null,
      "width": null
     }
    },
    "ecc62b25e09b49749f2419f317adb333": {
     "model_module": "@jupyter-widgets/controls",
     "model_module_version": "1.5.0",
     "model_name": "HTMLModel",
     "state": {
      "_dom_classes": [],
      "_model_module": "@jupyter-widgets/controls",
      "_model_module_version": "1.5.0",
      "_model_name": "HTMLModel",
      "_view_count": null,
      "_view_module": "@jupyter-widgets/controls",
      "_view_module_version": "1.5.0",
      "_view_name": "HTMLView",
      "description": "",
      "description_tooltip": null,
      "layout": "IPY_MODEL_e5452b4a431c4f69a03abc5b79573efa",
      "placeholder": "​",
      "style": "IPY_MODEL_23d0dd2858eb4a329420b87f17b9012f",
      "value": " 4/4 [10:47&lt;00:00, 161.93s/it]"
     }
    }
   }
  }
 },
 "nbformat": 4,
 "nbformat_minor": 1
}
