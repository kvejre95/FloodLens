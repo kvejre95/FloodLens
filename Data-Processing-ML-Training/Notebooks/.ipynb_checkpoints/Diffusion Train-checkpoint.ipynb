{
 "cells": [
  {
   "cell_type": "code",
   "execution_count": null,
   "metadata": {
    "colab": {
     "base_uri": "https://localhost:8080/"
    },
    "executionInfo": {
     "elapsed": 14868,
     "status": "ok",
     "timestamp": 1698675130143,
     "user": {
      "displayName": "Pranath Reddy Kumbam",
      "userId": "13245202322626445782"
     },
     "user_tz": 240
    },
    "id": "uV8Lch-wnW32",
    "outputId": "c41a3b22-f77e-4f80-f57d-f3cdb64d46d4"
   },
   "outputs": [],
   "source": [
    "from google.colab import drive\n",
    "drive.mount('/content/drive')"
   ]
  },
  {
   "cell_type": "code",
   "execution_count": null,
   "metadata": {
    "colab": {
     "base_uri": "https://localhost:8080/"
    },
    "executionInfo": {
     "elapsed": 639,
     "status": "ok",
     "timestamp": 1698675130778,
     "user": {
      "displayName": "Pranath Reddy Kumbam",
      "userId": "13245202322626445782"
     },
     "user_tz": 240
    },
    "id": "Fltk46feoNyW",
    "outputId": "3a48b083-9410-4328-ff02-5d395f8509f5"
   },
   "outputs": [],
   "source": [
    "cd drive/My \\Drive/Acad/ADS/Project/"
   ]
  },
  {
   "cell_type": "code",
   "execution_count": null,
   "metadata": {
    "cellView": "both",
    "colab": {
     "background_save": true,
     "base_uri": "https://localhost:8080/"
    },
    "id": "agXdpFwPPiHw"
   },
   "outputs": [],
   "source": [
    "'''\n",
    "Notebook to train DDPM model\n",
    "'''\n",
    "\n",
    "# Import required libraries\n",
    "import os\n",
    "import numpy as np\n",
    "import torch\n",
    "import torch.nn as nn\n",
    "from matplotlib import pyplot as plt\n",
    "from tqdm import tqdm\n",
    "from torch import optim\n",
    "import torchvision\n",
    "from PIL import Image\n",
    "from modules_conditional import UNet, Diffusion\n",
    "import torch.nn.functional as F\n",
    "from torch.utils.data import TensorDataset, DataLoader\n",
    "\n",
    "# Load training data\n",
    "# High-Resolution lensing data\n",
    "x_trainHR = np.load('./Data/train_labels.npy').astype(np.float32)\n",
    "# Low-Resolution lensing data\n",
    "x_trainLR = np.load('./Data/train_images.npy').astype(np.float32)\n",
    "x_trainHR = torch.Tensor(x_trainHR)\n",
    "x_trainLR = torch.Tensor(x_trainLR)\n",
    "# Print data dimensions\n",
    "print(x_trainHR.shape)\n",
    "print(x_trainLR.shape)\n",
    "\n",
    "# Create dataset and dataloader for efficient data loading and batching\n",
    "dataset = TensorDataset(x_trainHR,x_trainLR)\n",
    "dataloader = DataLoader(dataset, batch_size=5)\n",
    "\n",
    "device = \"cuda\"\n",
    "model = UNet().to(device)\n",
    "#model.load_state_dict(torch.load('./Weights/Diff_ckpt_1.pt'))\n",
    "optimizer = optim.AdamW(model.parameters(), lr=3e-4)\n",
    "mse = nn.MSELoss()\n",
    "diffusion = Diffusion(img_size=128, device=device)\n",
    "l = len(dataloader)\n",
    "epochs = 100\n",
    "\n",
    "for epoch in range(1, epochs):\n",
    "    print(f\"Starting epoch {epoch}:\")\n",
    "    pbar = tqdm(dataloader)\n",
    "    avg_mse = 0\n",
    "    for i, (images, conditions) in enumerate(pbar):\n",
    "        images = images.to(device)\n",
    "        conditions = conditions.to(device)\n",
    "        t = diffusion.sample_timesteps(images.shape[0]).to(device)\n",
    "        x_t, noise = diffusion.noise_images(images, t)\n",
    "        predicted_noise = model(x_t, t, conditions)\n",
    "        loss = mse(noise, predicted_noise)\n",
    "\n",
    "        optimizer.zero_grad()\n",
    "        loss.backward()\n",
    "        optimizer.step()\n",
    "\n",
    "        pbar.set_postfix(MSE=loss.item())\n",
    "        avg_mse += loss.item()\n",
    "\n",
    "    print(f'Average MSE: {avg_mse/1000:.5f}\\n')\n",
    "    torch.save(model.state_dict(), os.path.join(\"Weights\", f\"Diff_ckpt_1.pt\"))"
   ]
  }
 ],
 "metadata": {
  "accelerator": "GPU",
  "colab": {
   "machine_shape": "hm",
   "name": "",
   "version": ""
  },
  "kernelspec": {
   "display_name": "Python 3 (ipykernel)",
   "language": "python",
   "name": "python3"
  },
  "language_info": {
   "codemirror_mode": {
    "name": "ipython",
    "version": 3
   },
   "file_extension": ".py",
   "mimetype": "text/x-python",
   "name": "python",
   "nbconvert_exporter": "python",
   "pygments_lexer": "ipython3",
   "version": "3.11.5"
  }
 },
 "nbformat": 4,
 "nbformat_minor": 1
}
